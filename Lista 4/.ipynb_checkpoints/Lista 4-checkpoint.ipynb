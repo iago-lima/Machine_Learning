{
 "cells": [
  {
   "cell_type": "markdown",
   "metadata": {},
   "source": [
    "# Lista de Exercícios 03 - Iago O. Lima - Eng. de Computação - 374851"
   ]
  },
  {
   "cell_type": "code",
   "execution_count": 41,
   "metadata": {},
   "outputs": [],
   "source": [
    "import pandas as pd\n",
    "import numpy as np\n",
    "import matplotlib.pyplot as plt"
   ]
  },
  {
   "cell_type": "markdown",
   "metadata": {},
   "source": [
    "### Perceptron"
   ]
  },
  {
   "cell_type": "code",
   "execution_count": 42,
   "metadata": {},
   "outputs": [],
   "source": [
    "class Perceptron(object):\n",
    "    \"\"\"Perceptron classifier.\n",
    "    Parameters\n",
    "    ------------\n",
    "    eta : float\n",
    "      Learning rate (between 0.0 and 1.0)\n",
    "    n_iter : int\n",
    "      Passes over the training dataset.\n",
    "    random_state : int\n",
    "      Random number generator seed for random weight\n",
    "      initialization.\n",
    "    Attributes\n",
    "    -----------\n",
    "    w_ : 1d-array\n",
    "      Weights after fitting.\n",
    "    errors_ : list\n",
    "      Number of misclassifications (updates) in each epoch.\n",
    "    \"\"\"\n",
    "    def __init__(self, eta=0.01, n_iter=50, random_state=1):\n",
    "        self.eta = eta\n",
    "        self.n_iter = n_iter\n",
    "        self.random_state = random_state\n",
    "\n",
    "    def fit(self, X, y):\n",
    "        \"\"\"Fit training data.\n",
    "        Parameters\n",
    "        ----------\n",
    "        X : {array-like}, shape = [n_samples, n_features]\n",
    "          Training vectors, where n_samples is the number of samples and\n",
    "          n_features is the number of features.\n",
    "        y : array-like, shape = [n_samples]\n",
    "          Target values.\n",
    "        Returns\n",
    "        -------\n",
    "        self : object\n",
    "        \"\"\"\n",
    "        rgen = np.random.RandomState(self.random_state)\n",
    "        self.w_ = rgen.normal(loc=0.0, scale=0.01, size=1 + X.shape[1])\n",
    "        self.errors_ = []\n",
    "\n",
    "        for _ in range(self.n_iter):\n",
    "            errors = 0\n",
    "            for xi, target in zip(X, y):\n",
    "                update = self.eta * (target - self.predict(xi))\n",
    "                self.w_[1:] += update * xi\n",
    "                self.w_[0] += update\n",
    "                errors += int(update != 0.0)\n",
    "            self.errors_.append(errors)\n",
    "        return self\n",
    "\n",
    "    def net_input(self, X):\n",
    "        \"\"\"Calculate net input\"\"\"\n",
    "        return np.dot(X, self.w_[1:]) + self.w_[0]\n",
    "\n",
    "    def predict(self, X):\n",
    "        \"\"\"Return class label after unit step\"\"\"\n",
    "        return np.where(self.net_input(X) >= 0.0, 1, -1)"
   ]
  },
  {
   "cell_type": "markdown",
   "metadata": {},
   "source": [
    "### Adaline"
   ]
  },
  {
   "cell_type": "code",
   "execution_count": 43,
   "metadata": {},
   "outputs": [],
   "source": [
    "class AdalineGD(object):\n",
    "    \"\"\"ADAptive LInear NEuron classifier.\n",
    "    Parameters\n",
    "    ------------\n",
    "    eta : float\n",
    "      Learning rate (between 0.0 and 1.0)\n",
    "    n_iter : int\n",
    "      Passes over the training dataset.\n",
    "    random_state : int\n",
    "      Random number generator seed for random weight\n",
    "      initialization.\n",
    "    Attributes\n",
    "    -----------\n",
    "    w_ : 1d-array\n",
    "      Weights after fitting.\n",
    "    cost_ : list\n",
    "      Sum-of-squares cost function value in each epoch.\n",
    "    \"\"\"\n",
    "    def __init__(self, eta=0.01, n_iter=50, random_state=1):\n",
    "        self.eta = eta\n",
    "        self.n_iter = n_iter\n",
    "        self.random_state = random_state\n",
    "\n",
    "    def fit(self, X, y):\n",
    "        \"\"\" Fit training data.\n",
    "        Parameters\n",
    "        ----------\n",
    "        X : {array-like}, shape = [n_samples, n_features]\n",
    "          Training vectors, where n_samples is the number of samples and\n",
    "          n_features is the number of features.\n",
    "        y : array-like, shape = [n_samples]\n",
    "          Target values.\n",
    "        Returns\n",
    "        -------\n",
    "        self : object\n",
    "        \"\"\"\n",
    "        rgen = np.random.RandomState(self.random_state)\n",
    "        self.w_ = rgen.normal(loc=0.0, scale=0.01, size=1 + X.shape[1])\n",
    "        self.cost_ = []\n",
    "\n",
    "        for i in range(self.n_iter):\n",
    "            net_input = self.net_input(X)\n",
    "            # Please note that the \"activation\" method has no effect\n",
    "            # in the code since it is simply an identity function. We\n",
    "            # could write `output = self.net_input(X)` directly instead.\n",
    "            # The purpose of the activation is more conceptual, i.e.,  \n",
    "            # in the case of logistic regression (as we will see later), \n",
    "            # we could change it to\n",
    "            # a sigmoid function to implement a logistic regression classifier.\n",
    "            output = self.activation(net_input)\n",
    "            errors = (y - output)\n",
    "            self.w_[1:] += self.eta * X.T.dot(errors)\n",
    "            self.w_[0] += self.eta * errors.sum()\n",
    "            cost = (errors**2).sum() / 2.0\n",
    "            self.cost_.append(cost)\n",
    "        return self\n",
    "\n",
    "    def net_input(self, X):\n",
    "        \"\"\"Calculate net input\"\"\"\n",
    "        return np.dot(X, self.w_[1:]) + self.w_[0]\n",
    "\n",
    "    def activation(self, X):\n",
    "        \"\"\"Compute linear activation\"\"\"\n",
    "        return X\n",
    "\n",
    "    def predict(self, X):\n",
    "        \"\"\"Return class label after unit step\"\"\"\n",
    "        return np.where(self.activation(self.net_input(X)) >= 0.0, 1, -1)\n"
   ]
  },
  {
   "cell_type": "code",
   "execution_count": 44,
   "metadata": {},
   "outputs": [],
   "source": [
    "class AdalineSGD(object):\n",
    "    \"\"\"ADAptive LInear NEuron classifier.\n",
    "    Parameters\n",
    "    ------------\n",
    "    eta : float\n",
    "      Learning rate (between 0.0 and 1.0)\n",
    "    n_iter : int\n",
    "      Passes over the training dataset.\n",
    "    shuffle : bool (default: True)\n",
    "      Shuffles training data every epoch if True to prevent cycles.\n",
    "    random_state : int\n",
    "      Random number generator seed for random weight\n",
    "      initialization.\n",
    "    Attributes\n",
    "    -----------\n",
    "    w_ : 1d-array\n",
    "      Weights after fitting.\n",
    "    cost_ : list\n",
    "      Sum-of-squares cost function value averaged over all\n",
    "      training samples in each epoch.\n",
    "        \n",
    "    \"\"\"\n",
    "    def __init__(self, eta=0.01, n_iter=10, shuffle=True, random_state=None):\n",
    "        self.eta = eta\n",
    "        self.n_iter = n_iter\n",
    "        self.w_initialized = False\n",
    "        self.shuffle = shuffle\n",
    "        self.random_state = random_state\n",
    "        \n",
    "    def fit(self, X, y):\n",
    "        \"\"\" Fit training data.\n",
    "        Parameters\n",
    "        ----------\n",
    "        X : {array-like}, shape = [n_samples, n_features]\n",
    "          Training vectors, where n_samples is the number of samples and\n",
    "          n_features is the number of features.\n",
    "        y : array-like, shape = [n_samples]\n",
    "          Target values.\n",
    "        Returns\n",
    "        -------\n",
    "        self : object\n",
    "        \"\"\"\n",
    "        self._initialize_weights(X.shape[1])\n",
    "        self.cost_ = []\n",
    "        for i in range(self.n_iter):\n",
    "            if self.shuffle:\n",
    "                X, y = self._shuffle(X, y)\n",
    "            cost = []\n",
    "            for xi, target in zip(X, y):\n",
    "                cost.append(self._update_weights(xi, target))\n",
    "            avg_cost = sum(cost) / len(y)\n",
    "            self.cost_.append(avg_cost)\n",
    "        return self\n",
    "\n",
    "    def partial_fit(self, X, y):\n",
    "        \"\"\"Fit training data without reinitializing the weights\"\"\"\n",
    "        if not self.w_initialized:\n",
    "            self._initialize_weights(X.shape[1])\n",
    "        if y.ravel().shape[0] > 1:\n",
    "            for xi, target in zip(X, y):\n",
    "                self._update_weights(xi, target)\n",
    "        else:\n",
    "            self._update_weights(X, y)\n",
    "        return self\n",
    "\n",
    "    def _shuffle(self, X, y):\n",
    "        \"\"\"Shuffle training data\"\"\"\n",
    "        r = self.rgen.permutation(len(y))\n",
    "        return X[r], y[r]\n",
    "    \n",
    "    def _initialize_weights(self, m):\n",
    "        \"\"\"Initialize weights to small random numbers\"\"\"\n",
    "        self.rgen = np.random.RandomState(self.random_state)\n",
    "        self.w_ = self.rgen.normal(loc=0.0, scale=0.01, size=1 + m)\n",
    "        self.w_initialized = True\n",
    "        \n",
    "    def _update_weights(self, xi, target):\n",
    "        \"\"\"Apply Adaline learning rule to update the weights\"\"\"\n",
    "        output = self.activation(self.net_input(xi))\n",
    "        error = (target - output)\n",
    "        self.w_[1:] += self.eta * xi.dot(error)\n",
    "        self.w_[0] += self.eta * error\n",
    "        cost = 0.5 * error**2\n",
    "        return cost\n",
    "    \n",
    "    def net_input(self, X):\n",
    "        \"\"\"Calculate net input\"\"\"\n",
    "        return np.dot(X, self.w_[1:]) + self.w_[0]\n",
    "\n",
    "    def activation(self, X):\n",
    "        \"\"\"Compute linear activation\"\"\"\n",
    "        return X\n",
    "\n",
    "    def predict(self, X):\n",
    "        \"\"\"Return class label after unit step\"\"\"\n",
    "        return np.where(self.activation(self.net_input(X)) >= 0.0, 1, -1)"
   ]
  },
  {
   "cell_type": "markdown",
   "metadata": {},
   "source": [
    "### Carregando dataset e definindo colunas"
   ]
  },
  {
   "cell_type": "code",
   "execution_count": 45,
   "metadata": {},
   "outputs": [],
   "source": [
    "features = ['ID','diagnosis','radius','texture', 'perimeter','area','smoothness','compactness','concavity',\n",
    "           'concave_points','symmetry','fractal_dimension', 'radiusSE','textureSE','perimeterSE','areaSE',\n",
    "           'smoothnessSE','compactenessSE','concavitySE','concave_pointsSE','symmetrySE','fractal_dimensionSE',\n",
    "           'radiusW','textureSW','perimeterW','areaW','smoothnessW','compactnessW','concavityW','concave_pointsW',\n",
    "           'symmetryW','fractal_dimensionW']\n",
    "data = pd.read_csv('wdbc.csv',names=features)"
   ]
  },
  {
   "cell_type": "markdown",
   "metadata": {},
   "source": [
    "### Analisando Dados"
   ]
  },
  {
   "cell_type": "code",
   "execution_count": 46,
   "metadata": {},
   "outputs": [
    {
     "data": {
      "text/html": [
       "<div>\n",
       "<style scoped>\n",
       "    .dataframe tbody tr th:only-of-type {\n",
       "        vertical-align: middle;\n",
       "    }\n",
       "\n",
       "    .dataframe tbody tr th {\n",
       "        vertical-align: top;\n",
       "    }\n",
       "\n",
       "    .dataframe thead th {\n",
       "        text-align: right;\n",
       "    }\n",
       "</style>\n",
       "<table border=\"1\" class=\"dataframe\">\n",
       "  <thead>\n",
       "    <tr style=\"text-align: right;\">\n",
       "      <th></th>\n",
       "      <th>ID</th>\n",
       "      <th>diagnosis</th>\n",
       "      <th>radius</th>\n",
       "      <th>texture</th>\n",
       "      <th>perimeter</th>\n",
       "      <th>area</th>\n",
       "      <th>smoothness</th>\n",
       "      <th>compactness</th>\n",
       "      <th>concavity</th>\n",
       "      <th>concave_points</th>\n",
       "      <th>...</th>\n",
       "      <th>radiusW</th>\n",
       "      <th>textureSW</th>\n",
       "      <th>perimeterW</th>\n",
       "      <th>areaW</th>\n",
       "      <th>smoothnessW</th>\n",
       "      <th>compactnessW</th>\n",
       "      <th>concavityW</th>\n",
       "      <th>concave_pointsW</th>\n",
       "      <th>symmetryW</th>\n",
       "      <th>fractal_dimensionW</th>\n",
       "    </tr>\n",
       "  </thead>\n",
       "  <tbody>\n",
       "    <tr>\n",
       "      <th>0</th>\n",
       "      <td>842302</td>\n",
       "      <td>M</td>\n",
       "      <td>17.99</td>\n",
       "      <td>10.38</td>\n",
       "      <td>122.80</td>\n",
       "      <td>1001.0</td>\n",
       "      <td>0.11840</td>\n",
       "      <td>0.27760</td>\n",
       "      <td>0.3001</td>\n",
       "      <td>0.14710</td>\n",
       "      <td>...</td>\n",
       "      <td>25.38</td>\n",
       "      <td>17.33</td>\n",
       "      <td>184.60</td>\n",
       "      <td>2019.0</td>\n",
       "      <td>0.1622</td>\n",
       "      <td>0.6656</td>\n",
       "      <td>0.7119</td>\n",
       "      <td>0.2654</td>\n",
       "      <td>0.4601</td>\n",
       "      <td>0.11890</td>\n",
       "    </tr>\n",
       "    <tr>\n",
       "      <th>1</th>\n",
       "      <td>842517</td>\n",
       "      <td>M</td>\n",
       "      <td>20.57</td>\n",
       "      <td>17.77</td>\n",
       "      <td>132.90</td>\n",
       "      <td>1326.0</td>\n",
       "      <td>0.08474</td>\n",
       "      <td>0.07864</td>\n",
       "      <td>0.0869</td>\n",
       "      <td>0.07017</td>\n",
       "      <td>...</td>\n",
       "      <td>24.99</td>\n",
       "      <td>23.41</td>\n",
       "      <td>158.80</td>\n",
       "      <td>1956.0</td>\n",
       "      <td>0.1238</td>\n",
       "      <td>0.1866</td>\n",
       "      <td>0.2416</td>\n",
       "      <td>0.1860</td>\n",
       "      <td>0.2750</td>\n",
       "      <td>0.08902</td>\n",
       "    </tr>\n",
       "    <tr>\n",
       "      <th>2</th>\n",
       "      <td>84300903</td>\n",
       "      <td>M</td>\n",
       "      <td>19.69</td>\n",
       "      <td>21.25</td>\n",
       "      <td>130.00</td>\n",
       "      <td>1203.0</td>\n",
       "      <td>0.10960</td>\n",
       "      <td>0.15990</td>\n",
       "      <td>0.1974</td>\n",
       "      <td>0.12790</td>\n",
       "      <td>...</td>\n",
       "      <td>23.57</td>\n",
       "      <td>25.53</td>\n",
       "      <td>152.50</td>\n",
       "      <td>1709.0</td>\n",
       "      <td>0.1444</td>\n",
       "      <td>0.4245</td>\n",
       "      <td>0.4504</td>\n",
       "      <td>0.2430</td>\n",
       "      <td>0.3613</td>\n",
       "      <td>0.08758</td>\n",
       "    </tr>\n",
       "    <tr>\n",
       "      <th>3</th>\n",
       "      <td>84348301</td>\n",
       "      <td>M</td>\n",
       "      <td>11.42</td>\n",
       "      <td>20.38</td>\n",
       "      <td>77.58</td>\n",
       "      <td>386.1</td>\n",
       "      <td>0.14250</td>\n",
       "      <td>0.28390</td>\n",
       "      <td>0.2414</td>\n",
       "      <td>0.10520</td>\n",
       "      <td>...</td>\n",
       "      <td>14.91</td>\n",
       "      <td>26.50</td>\n",
       "      <td>98.87</td>\n",
       "      <td>567.7</td>\n",
       "      <td>0.2098</td>\n",
       "      <td>0.8663</td>\n",
       "      <td>0.6869</td>\n",
       "      <td>0.2575</td>\n",
       "      <td>0.6638</td>\n",
       "      <td>0.17300</td>\n",
       "    </tr>\n",
       "    <tr>\n",
       "      <th>4</th>\n",
       "      <td>84358402</td>\n",
       "      <td>M</td>\n",
       "      <td>20.29</td>\n",
       "      <td>14.34</td>\n",
       "      <td>135.10</td>\n",
       "      <td>1297.0</td>\n",
       "      <td>0.10030</td>\n",
       "      <td>0.13280</td>\n",
       "      <td>0.1980</td>\n",
       "      <td>0.10430</td>\n",
       "      <td>...</td>\n",
       "      <td>22.54</td>\n",
       "      <td>16.67</td>\n",
       "      <td>152.20</td>\n",
       "      <td>1575.0</td>\n",
       "      <td>0.1374</td>\n",
       "      <td>0.2050</td>\n",
       "      <td>0.4000</td>\n",
       "      <td>0.1625</td>\n",
       "      <td>0.2364</td>\n",
       "      <td>0.07678</td>\n",
       "    </tr>\n",
       "  </tbody>\n",
       "</table>\n",
       "<p>5 rows × 32 columns</p>\n",
       "</div>"
      ],
      "text/plain": [
       "         ID diagnosis  radius  texture  perimeter    area  smoothness  \\\n",
       "0    842302         M   17.99    10.38     122.80  1001.0     0.11840   \n",
       "1    842517         M   20.57    17.77     132.90  1326.0     0.08474   \n",
       "2  84300903         M   19.69    21.25     130.00  1203.0     0.10960   \n",
       "3  84348301         M   11.42    20.38      77.58   386.1     0.14250   \n",
       "4  84358402         M   20.29    14.34     135.10  1297.0     0.10030   \n",
       "\n",
       "   compactness  concavity  concave_points         ...          radiusW  \\\n",
       "0      0.27760     0.3001         0.14710         ...            25.38   \n",
       "1      0.07864     0.0869         0.07017         ...            24.99   \n",
       "2      0.15990     0.1974         0.12790         ...            23.57   \n",
       "3      0.28390     0.2414         0.10520         ...            14.91   \n",
       "4      0.13280     0.1980         0.10430         ...            22.54   \n",
       "\n",
       "   textureSW  perimeterW   areaW  smoothnessW  compactnessW  concavityW  \\\n",
       "0      17.33      184.60  2019.0       0.1622        0.6656      0.7119   \n",
       "1      23.41      158.80  1956.0       0.1238        0.1866      0.2416   \n",
       "2      25.53      152.50  1709.0       0.1444        0.4245      0.4504   \n",
       "3      26.50       98.87   567.7       0.2098        0.8663      0.6869   \n",
       "4      16.67      152.20  1575.0       0.1374        0.2050      0.4000   \n",
       "\n",
       "   concave_pointsW  symmetryW  fractal_dimensionW  \n",
       "0           0.2654     0.4601             0.11890  \n",
       "1           0.1860     0.2750             0.08902  \n",
       "2           0.2430     0.3613             0.08758  \n",
       "3           0.2575     0.6638             0.17300  \n",
       "4           0.1625     0.2364             0.07678  \n",
       "\n",
       "[5 rows x 32 columns]"
      ]
     },
     "execution_count": 46,
     "metadata": {},
     "output_type": "execute_result"
    }
   ],
   "source": [
    "data.head()"
   ]
  },
  {
   "cell_type": "code",
   "execution_count": 47,
   "metadata": {},
   "outputs": [
    {
     "data": {
      "text/html": [
       "<div>\n",
       "<style scoped>\n",
       "    .dataframe tbody tr th:only-of-type {\n",
       "        vertical-align: middle;\n",
       "    }\n",
       "\n",
       "    .dataframe tbody tr th {\n",
       "        vertical-align: top;\n",
       "    }\n",
       "\n",
       "    .dataframe thead th {\n",
       "        text-align: right;\n",
       "    }\n",
       "</style>\n",
       "<table border=\"1\" class=\"dataframe\">\n",
       "  <thead>\n",
       "    <tr style=\"text-align: right;\">\n",
       "      <th></th>\n",
       "      <th>ID</th>\n",
       "      <th>radius</th>\n",
       "      <th>texture</th>\n",
       "      <th>perimeter</th>\n",
       "      <th>area</th>\n",
       "      <th>smoothness</th>\n",
       "      <th>compactness</th>\n",
       "      <th>concavity</th>\n",
       "      <th>concave_points</th>\n",
       "      <th>symmetry</th>\n",
       "      <th>...</th>\n",
       "      <th>radiusW</th>\n",
       "      <th>textureSW</th>\n",
       "      <th>perimeterW</th>\n",
       "      <th>areaW</th>\n",
       "      <th>smoothnessW</th>\n",
       "      <th>compactnessW</th>\n",
       "      <th>concavityW</th>\n",
       "      <th>concave_pointsW</th>\n",
       "      <th>symmetryW</th>\n",
       "      <th>fractal_dimensionW</th>\n",
       "    </tr>\n",
       "  </thead>\n",
       "  <tbody>\n",
       "    <tr>\n",
       "      <th>count</th>\n",
       "      <td>5.690000e+02</td>\n",
       "      <td>569.000000</td>\n",
       "      <td>569.000000</td>\n",
       "      <td>569.000000</td>\n",
       "      <td>569.000000</td>\n",
       "      <td>569.000000</td>\n",
       "      <td>569.000000</td>\n",
       "      <td>569.000000</td>\n",
       "      <td>569.000000</td>\n",
       "      <td>569.000000</td>\n",
       "      <td>...</td>\n",
       "      <td>569.000000</td>\n",
       "      <td>569.000000</td>\n",
       "      <td>569.000000</td>\n",
       "      <td>569.000000</td>\n",
       "      <td>569.000000</td>\n",
       "      <td>569.000000</td>\n",
       "      <td>569.000000</td>\n",
       "      <td>569.000000</td>\n",
       "      <td>569.000000</td>\n",
       "      <td>569.000000</td>\n",
       "    </tr>\n",
       "    <tr>\n",
       "      <th>mean</th>\n",
       "      <td>3.037183e+07</td>\n",
       "      <td>14.127292</td>\n",
       "      <td>19.289649</td>\n",
       "      <td>91.969033</td>\n",
       "      <td>654.889104</td>\n",
       "      <td>0.096360</td>\n",
       "      <td>0.104341</td>\n",
       "      <td>0.088799</td>\n",
       "      <td>0.048919</td>\n",
       "      <td>0.181162</td>\n",
       "      <td>...</td>\n",
       "      <td>16.269190</td>\n",
       "      <td>25.677223</td>\n",
       "      <td>107.261213</td>\n",
       "      <td>880.583128</td>\n",
       "      <td>0.132369</td>\n",
       "      <td>0.254265</td>\n",
       "      <td>0.272188</td>\n",
       "      <td>0.114606</td>\n",
       "      <td>0.290076</td>\n",
       "      <td>0.083946</td>\n",
       "    </tr>\n",
       "    <tr>\n",
       "      <th>std</th>\n",
       "      <td>1.250206e+08</td>\n",
       "      <td>3.524049</td>\n",
       "      <td>4.301036</td>\n",
       "      <td>24.298981</td>\n",
       "      <td>351.914129</td>\n",
       "      <td>0.014064</td>\n",
       "      <td>0.052813</td>\n",
       "      <td>0.079720</td>\n",
       "      <td>0.038803</td>\n",
       "      <td>0.027414</td>\n",
       "      <td>...</td>\n",
       "      <td>4.833242</td>\n",
       "      <td>6.146258</td>\n",
       "      <td>33.602542</td>\n",
       "      <td>569.356993</td>\n",
       "      <td>0.022832</td>\n",
       "      <td>0.157336</td>\n",
       "      <td>0.208624</td>\n",
       "      <td>0.065732</td>\n",
       "      <td>0.061867</td>\n",
       "      <td>0.018061</td>\n",
       "    </tr>\n",
       "    <tr>\n",
       "      <th>min</th>\n",
       "      <td>8.670000e+03</td>\n",
       "      <td>6.981000</td>\n",
       "      <td>9.710000</td>\n",
       "      <td>43.790000</td>\n",
       "      <td>143.500000</td>\n",
       "      <td>0.052630</td>\n",
       "      <td>0.019380</td>\n",
       "      <td>0.000000</td>\n",
       "      <td>0.000000</td>\n",
       "      <td>0.106000</td>\n",
       "      <td>...</td>\n",
       "      <td>7.930000</td>\n",
       "      <td>12.020000</td>\n",
       "      <td>50.410000</td>\n",
       "      <td>185.200000</td>\n",
       "      <td>0.071170</td>\n",
       "      <td>0.027290</td>\n",
       "      <td>0.000000</td>\n",
       "      <td>0.000000</td>\n",
       "      <td>0.156500</td>\n",
       "      <td>0.055040</td>\n",
       "    </tr>\n",
       "    <tr>\n",
       "      <th>25%</th>\n",
       "      <td>8.692180e+05</td>\n",
       "      <td>11.700000</td>\n",
       "      <td>16.170000</td>\n",
       "      <td>75.170000</td>\n",
       "      <td>420.300000</td>\n",
       "      <td>0.086370</td>\n",
       "      <td>0.064920</td>\n",
       "      <td>0.029560</td>\n",
       "      <td>0.020310</td>\n",
       "      <td>0.161900</td>\n",
       "      <td>...</td>\n",
       "      <td>13.010000</td>\n",
       "      <td>21.080000</td>\n",
       "      <td>84.110000</td>\n",
       "      <td>515.300000</td>\n",
       "      <td>0.116600</td>\n",
       "      <td>0.147200</td>\n",
       "      <td>0.114500</td>\n",
       "      <td>0.064930</td>\n",
       "      <td>0.250400</td>\n",
       "      <td>0.071460</td>\n",
       "    </tr>\n",
       "    <tr>\n",
       "      <th>50%</th>\n",
       "      <td>9.060240e+05</td>\n",
       "      <td>13.370000</td>\n",
       "      <td>18.840000</td>\n",
       "      <td>86.240000</td>\n",
       "      <td>551.100000</td>\n",
       "      <td>0.095870</td>\n",
       "      <td>0.092630</td>\n",
       "      <td>0.061540</td>\n",
       "      <td>0.033500</td>\n",
       "      <td>0.179200</td>\n",
       "      <td>...</td>\n",
       "      <td>14.970000</td>\n",
       "      <td>25.410000</td>\n",
       "      <td>97.660000</td>\n",
       "      <td>686.500000</td>\n",
       "      <td>0.131300</td>\n",
       "      <td>0.211900</td>\n",
       "      <td>0.226700</td>\n",
       "      <td>0.099930</td>\n",
       "      <td>0.282200</td>\n",
       "      <td>0.080040</td>\n",
       "    </tr>\n",
       "    <tr>\n",
       "      <th>75%</th>\n",
       "      <td>8.813129e+06</td>\n",
       "      <td>15.780000</td>\n",
       "      <td>21.800000</td>\n",
       "      <td>104.100000</td>\n",
       "      <td>782.700000</td>\n",
       "      <td>0.105300</td>\n",
       "      <td>0.130400</td>\n",
       "      <td>0.130700</td>\n",
       "      <td>0.074000</td>\n",
       "      <td>0.195700</td>\n",
       "      <td>...</td>\n",
       "      <td>18.790000</td>\n",
       "      <td>29.720000</td>\n",
       "      <td>125.400000</td>\n",
       "      <td>1084.000000</td>\n",
       "      <td>0.146000</td>\n",
       "      <td>0.339100</td>\n",
       "      <td>0.382900</td>\n",
       "      <td>0.161400</td>\n",
       "      <td>0.317900</td>\n",
       "      <td>0.092080</td>\n",
       "    </tr>\n",
       "    <tr>\n",
       "      <th>max</th>\n",
       "      <td>9.113205e+08</td>\n",
       "      <td>28.110000</td>\n",
       "      <td>39.280000</td>\n",
       "      <td>188.500000</td>\n",
       "      <td>2501.000000</td>\n",
       "      <td>0.163400</td>\n",
       "      <td>0.345400</td>\n",
       "      <td>0.426800</td>\n",
       "      <td>0.201200</td>\n",
       "      <td>0.304000</td>\n",
       "      <td>...</td>\n",
       "      <td>36.040000</td>\n",
       "      <td>49.540000</td>\n",
       "      <td>251.200000</td>\n",
       "      <td>4254.000000</td>\n",
       "      <td>0.222600</td>\n",
       "      <td>1.058000</td>\n",
       "      <td>1.252000</td>\n",
       "      <td>0.291000</td>\n",
       "      <td>0.663800</td>\n",
       "      <td>0.207500</td>\n",
       "    </tr>\n",
       "  </tbody>\n",
       "</table>\n",
       "<p>8 rows × 31 columns</p>\n",
       "</div>"
      ],
      "text/plain": [
       "                 ID      radius     texture   perimeter         area  \\\n",
       "count  5.690000e+02  569.000000  569.000000  569.000000   569.000000   \n",
       "mean   3.037183e+07   14.127292   19.289649   91.969033   654.889104   \n",
       "std    1.250206e+08    3.524049    4.301036   24.298981   351.914129   \n",
       "min    8.670000e+03    6.981000    9.710000   43.790000   143.500000   \n",
       "25%    8.692180e+05   11.700000   16.170000   75.170000   420.300000   \n",
       "50%    9.060240e+05   13.370000   18.840000   86.240000   551.100000   \n",
       "75%    8.813129e+06   15.780000   21.800000  104.100000   782.700000   \n",
       "max    9.113205e+08   28.110000   39.280000  188.500000  2501.000000   \n",
       "\n",
       "       smoothness  compactness   concavity  concave_points    symmetry  \\\n",
       "count  569.000000   569.000000  569.000000      569.000000  569.000000   \n",
       "mean     0.096360     0.104341    0.088799        0.048919    0.181162   \n",
       "std      0.014064     0.052813    0.079720        0.038803    0.027414   \n",
       "min      0.052630     0.019380    0.000000        0.000000    0.106000   \n",
       "25%      0.086370     0.064920    0.029560        0.020310    0.161900   \n",
       "50%      0.095870     0.092630    0.061540        0.033500    0.179200   \n",
       "75%      0.105300     0.130400    0.130700        0.074000    0.195700   \n",
       "max      0.163400     0.345400    0.426800        0.201200    0.304000   \n",
       "\n",
       "              ...             radiusW   textureSW  perimeterW        areaW  \\\n",
       "count         ...          569.000000  569.000000  569.000000   569.000000   \n",
       "mean          ...           16.269190   25.677223  107.261213   880.583128   \n",
       "std           ...            4.833242    6.146258   33.602542   569.356993   \n",
       "min           ...            7.930000   12.020000   50.410000   185.200000   \n",
       "25%           ...           13.010000   21.080000   84.110000   515.300000   \n",
       "50%           ...           14.970000   25.410000   97.660000   686.500000   \n",
       "75%           ...           18.790000   29.720000  125.400000  1084.000000   \n",
       "max           ...           36.040000   49.540000  251.200000  4254.000000   \n",
       "\n",
       "       smoothnessW  compactnessW  concavityW  concave_pointsW   symmetryW  \\\n",
       "count   569.000000    569.000000  569.000000       569.000000  569.000000   \n",
       "mean      0.132369      0.254265    0.272188         0.114606    0.290076   \n",
       "std       0.022832      0.157336    0.208624         0.065732    0.061867   \n",
       "min       0.071170      0.027290    0.000000         0.000000    0.156500   \n",
       "25%       0.116600      0.147200    0.114500         0.064930    0.250400   \n",
       "50%       0.131300      0.211900    0.226700         0.099930    0.282200   \n",
       "75%       0.146000      0.339100    0.382900         0.161400    0.317900   \n",
       "max       0.222600      1.058000    1.252000         0.291000    0.663800   \n",
       "\n",
       "       fractal_dimensionW  \n",
       "count          569.000000  \n",
       "mean             0.083946  \n",
       "std              0.018061  \n",
       "min              0.055040  \n",
       "25%              0.071460  \n",
       "50%              0.080040  \n",
       "75%              0.092080  \n",
       "max              0.207500  \n",
       "\n",
       "[8 rows x 31 columns]"
      ]
     },
     "execution_count": 47,
     "metadata": {},
     "output_type": "execute_result"
    }
   ],
   "source": [
    "data.describe()"
   ]
  },
  {
   "cell_type": "code",
   "execution_count": 48,
   "metadata": {},
   "outputs": [
    {
     "name": "stdout",
     "output_type": "stream",
     "text": [
      "<class 'pandas.core.frame.DataFrame'>\n",
      "RangeIndex: 569 entries, 0 to 568\n",
      "Data columns (total 32 columns):\n",
      "ID                     569 non-null int64\n",
      "diagnosis              569 non-null object\n",
      "radius                 569 non-null float64\n",
      "texture                569 non-null float64\n",
      "perimeter              569 non-null float64\n",
      "area                   569 non-null float64\n",
      "smoothness             569 non-null float64\n",
      "compactness            569 non-null float64\n",
      "concavity              569 non-null float64\n",
      "concave_points         569 non-null float64\n",
      "symmetry               569 non-null float64\n",
      "fractal_dimension      569 non-null float64\n",
      "radiusSE               569 non-null float64\n",
      "textureSE              569 non-null float64\n",
      "perimeterSE            569 non-null float64\n",
      "areaSE                 569 non-null float64\n",
      "smoothnessSE           569 non-null float64\n",
      "compactenessSE         569 non-null float64\n",
      "concavitySE            569 non-null float64\n",
      "concave_pointsSE       569 non-null float64\n",
      "symmetrySE             569 non-null float64\n",
      "fractal_dimensionSE    569 non-null float64\n",
      "radiusW                569 non-null float64\n",
      "textureSW              569 non-null float64\n",
      "perimeterW             569 non-null float64\n",
      "areaW                  569 non-null float64\n",
      "smoothnessW            569 non-null float64\n",
      "compactnessW           569 non-null float64\n",
      "concavityW             569 non-null float64\n",
      "concave_pointsW        569 non-null float64\n",
      "symmetryW              569 non-null float64\n",
      "fractal_dimensionW     569 non-null float64\n",
      "dtypes: float64(30), int64(1), object(1)\n",
      "memory usage: 142.3+ KB\n"
     ]
    }
   ],
   "source": [
    "data.info()"
   ]
  },
  {
   "cell_type": "code",
   "execution_count": 49,
   "metadata": {
    "scrolled": true
   },
   "outputs": [
    {
     "data": {
      "image/png": "[encoded data removed]",
      "text/plain": [
       "<Figure size 1440x1440 with 36 Axes>"
      ]
     },
     "metadata": {
      "needs_background": "light"
     },
     "output_type": "display_data"
    }
   ],
   "source": [
    "data.hist(bins=50, figsize=(20,20));"
   ]
  },
  {
   "cell_type": "code",
   "execution_count": 50,
   "metadata": {},
   "outputs": [
    {
     "name": "stdout",
     "output_type": "stream",
     "text": [
      "           ID diagnosis  radius  texture  perimeter    area  smoothness  \\\n",
      "0      842302         M  17.990    10.38     122.80  1001.0     0.11840   \n",
      "1      842517         M  20.570    17.77     132.90  1326.0     0.08474   \n",
      "2    84300903         M  19.690    21.25     130.00  1203.0     0.10960   \n",
      "3    84348301         M  11.420    20.38      77.58   386.1     0.14250   \n",
      "4    84358402         M  20.290    14.34     135.10  1297.0     0.10030   \n",
      "5      843786         M  12.450    15.70      82.57   477.1     0.12780   \n",
      "6      844359         M  18.250    19.98     119.60  1040.0     0.09463   \n",
      "7    84458202         M  13.710    20.83      90.20   577.9     0.11890   \n",
      "8      844981         M  13.000    21.82      87.50   519.8     0.12730   \n",
      "9    84501001         M  12.460    24.04      83.97   475.9     0.11860   \n",
      "10     845636         M  16.020    23.24     102.70   797.8     0.08206   \n",
      "11   84610002         M  15.780    17.89     103.60   781.0     0.09710   \n",
      "12     846226         M  19.170    24.80     132.40  1123.0     0.09740   \n",
      "13     846381         M  15.850    23.95     103.70   782.7     0.08401   \n",
      "14   84667401         M  13.730    22.61      93.60   578.3     0.11310   \n",
      "15   84799002         M  14.540    27.54      96.73   658.8     0.11390   \n",
      "16     848406         M  14.680    20.13      94.74   684.5     0.09867   \n",
      "17   84862001         M  16.130    20.68     108.10   798.8     0.11700   \n",
      "18     849014         M  19.810    22.15     130.00  1260.0     0.09831   \n",
      "19    8510426         B  13.540    14.36      87.46   566.3     0.09779   \n",
      "20    8510653         B  13.080    15.71      85.63   520.0     0.10750   \n",
      "21    8510824         B   9.504    12.44      60.34   273.9     0.10240   \n",
      "22    8511133         M  15.340    14.26     102.50   704.4     0.10730   \n",
      "23     851509         M  21.160    23.04     137.20  1404.0     0.09428   \n",
      "24     852552         M  16.650    21.38     110.00   904.6     0.11210   \n",
      "25     852631         M  17.140    16.40     116.00   912.7     0.11860   \n",
      "26     852763         M  14.580    21.53      97.41   644.8     0.10540   \n",
      "27     852781         M  18.610    20.25     122.10  1094.0     0.09440   \n",
      "28     852973         M  15.300    25.27     102.40   732.4     0.10820   \n",
      "29     853201         M  17.570    15.05     115.00   955.1     0.09847   \n",
      "..        ...       ...     ...      ...        ...     ...         ...   \n",
      "539    921362         B   7.691    25.44      48.34   170.4     0.08668   \n",
      "540    921385         B  11.540    14.44      74.65   402.9     0.09984   \n",
      "541    921386         B  14.470    24.99      95.81   656.4     0.08837   \n",
      "542    921644         B  14.740    25.42      94.70   668.6     0.08275   \n",
      "543    922296         B  13.210    28.06      84.88   538.4     0.08671   \n",
      "544    922297         B  13.870    20.70      89.77   584.8     0.09578   \n",
      "545    922576         B  13.620    23.23      87.19   573.2     0.09246   \n",
      "546    922577         B  10.320    16.35      65.31   324.9     0.09434   \n",
      "547    922840         B  10.260    16.58      65.85   320.8     0.08877   \n",
      "548    923169         B   9.683    19.34      61.05   285.7     0.08491   \n",
      "549    923465         B  10.820    24.21      68.89   361.6     0.08192   \n",
      "550    923748         B  10.860    21.48      68.51   360.5     0.07431   \n",
      "551    923780         B  11.130    22.44      71.49   378.4     0.09566   \n",
      "552    924084         B  12.770    29.43      81.35   507.9     0.08276   \n",
      "553    924342         B   9.333    21.94      59.01   264.0     0.09240   \n",
      "554    924632         B  12.880    28.92      82.50   514.3     0.08123   \n",
      "555    924934         B  10.290    27.61      65.67   321.4     0.09030   \n",
      "556    924964         B  10.160    19.59      64.73   311.7     0.10030   \n",
      "557    925236         B   9.423    27.88      59.26   271.3     0.08123   \n",
      "558    925277         B  14.590    22.68      96.39   657.1     0.08473   \n",
      "559    925291         B  11.510    23.93      74.52   403.5     0.09261   \n",
      "560    925292         B  14.050    27.15      91.38   600.4     0.09929   \n",
      "561    925311         B  11.200    29.37      70.67   386.0     0.07449   \n",
      "562    925622         M  15.220    30.62     103.40   716.9     0.10480   \n",
      "563    926125         M  20.920    25.09     143.00  1347.0     0.10990   \n",
      "564    926424         M  21.560    22.39     142.00  1479.0     0.11100   \n",
      "565    926682         M  20.130    28.25     131.20  1261.0     0.09780   \n",
      "566    926954         M  16.600    28.08     108.30   858.1     0.08455   \n",
      "567    927241         M  20.600    29.33     140.10  1265.0     0.11780   \n",
      "568     92751         B   7.760    24.54      47.92   181.0     0.05263   \n",
      "\n",
      "     compactness  concavity  concave_points         ...          radiusW  \\\n",
      "0        0.27760   0.300100        0.147100         ...           25.380   \n",
      "1        0.07864   0.086900        0.070170         ...           24.990   \n",
      "2        0.15990   0.197400        0.127900         ...           23.570   \n",
      "3        0.28390   0.241400        0.105200         ...           14.910   \n",
      "4        0.13280   0.198000        0.104300         ...           22.540   \n",
      "5        0.17000   0.157800        0.080890         ...           15.470   \n",
      "6        0.10900   0.112700        0.074000         ...           22.880   \n",
      "7        0.16450   0.093660        0.059850         ...           17.060   \n",
      "8        0.19320   0.185900        0.093530         ...           15.490   \n",
      "9        0.23960   0.227300        0.085430         ...           15.090   \n",
      "10       0.06669   0.032990        0.033230         ...           19.190   \n",
      "11       0.12920   0.099540        0.066060         ...           20.420   \n",
      "12       0.24580   0.206500        0.111800         ...           20.960   \n",
      "13       0.10020   0.099380        0.053640         ...           16.840   \n",
      "14       0.22930   0.212800        0.080250         ...           15.030   \n",
      "15       0.15950   0.163900        0.073640         ...           17.460   \n",
      "16       0.07200   0.073950        0.052590         ...           19.070   \n",
      "17       0.20220   0.172200        0.102800         ...           20.960   \n",
      "18       0.10270   0.147900        0.094980         ...           27.320   \n",
      "19       0.08129   0.066640        0.047810         ...           15.110   \n",
      "20       0.12700   0.045680        0.031100         ...           14.500   \n",
      "21       0.06492   0.029560        0.020760         ...           10.230   \n",
      "22       0.21350   0.207700        0.097560         ...           18.070   \n",
      "23       0.10220   0.109700        0.086320         ...           29.170   \n",
      "24       0.14570   0.152500        0.091700         ...           26.460   \n",
      "25       0.22760   0.222900        0.140100         ...           22.250   \n",
      "26       0.18680   0.142500        0.087830         ...           17.620   \n",
      "27       0.10660   0.149000        0.077310         ...           21.310   \n",
      "28       0.16970   0.168300        0.087510         ...           20.270   \n",
      "29       0.11570   0.098750        0.079530         ...           20.010   \n",
      "..           ...        ...             ...         ...              ...   \n",
      "539      0.11990   0.092520        0.013640         ...            8.678   \n",
      "540      0.11200   0.067370        0.025940         ...           12.260   \n",
      "541      0.12300   0.100900        0.038900         ...           16.220   \n",
      "542      0.07214   0.041050        0.030270         ...           16.510   \n",
      "543      0.06877   0.029870        0.032750         ...           14.370   \n",
      "544      0.10180   0.036880        0.023690         ...           15.050   \n",
      "545      0.06747   0.029740        0.024430         ...           15.350   \n",
      "546      0.04994   0.010120        0.005495         ...           11.250   \n",
      "547      0.08066   0.043580        0.024380         ...           10.830   \n",
      "548      0.05030   0.023370        0.009615         ...           10.930   \n",
      "549      0.06602   0.015480        0.008160         ...           13.030   \n",
      "550      0.04227   0.000000        0.000000         ...           11.660   \n",
      "551      0.08194   0.048240        0.022570         ...           12.020   \n",
      "552      0.04234   0.019970        0.014990         ...           13.870   \n",
      "553      0.05605   0.039960        0.012820         ...            9.845   \n",
      "554      0.05824   0.061950        0.023430         ...           13.890   \n",
      "555      0.07658   0.059990        0.027380         ...           10.840   \n",
      "556      0.07504   0.005025        0.011160         ...           10.650   \n",
      "557      0.04971   0.000000        0.000000         ...           10.490   \n",
      "558      0.13300   0.102900        0.037360         ...           15.480   \n",
      "559      0.10210   0.111200        0.041050         ...           12.480   \n",
      "560      0.11260   0.044620        0.043040         ...           15.300   \n",
      "561      0.03558   0.000000        0.000000         ...           11.920   \n",
      "562      0.20870   0.255000        0.094290         ...           17.520   \n",
      "563      0.22360   0.317400        0.147400         ...           24.290   \n",
      "564      0.11590   0.243900        0.138900         ...           25.450   \n",
      "565      0.10340   0.144000        0.097910         ...           23.690   \n",
      "566      0.10230   0.092510        0.053020         ...           18.980   \n",
      "567      0.27700   0.351400        0.152000         ...           25.740   \n",
      "568      0.04362   0.000000        0.000000         ...            9.456   \n",
      "\n",
      "     textureSW  perimeterW   areaW  smoothnessW  compactnessW  concavityW  \\\n",
      "0        17.33      184.60  2019.0      0.16220       0.66560     0.71190   \n",
      "1        23.41      158.80  1956.0      0.12380       0.18660     0.24160   \n",
      "2        25.53      152.50  1709.0      0.14440       0.42450     0.45040   \n",
      "3        26.50       98.87   567.7      0.20980       0.86630     0.68690   \n",
      "4        16.67      152.20  1575.0      0.13740       0.20500     0.40000   \n",
      "5        23.75      103.40   741.6      0.17910       0.52490     0.53550   \n",
      "6        27.66      153.20  1606.0      0.14420       0.25760     0.37840   \n",
      "7        28.14      110.60   897.0      0.16540       0.36820     0.26780   \n",
      "8        30.73      106.20   739.3      0.17030       0.54010     0.53900   \n",
      "9        40.68       97.65   711.4      0.18530       1.05800     1.10500   \n",
      "10       33.88      123.80  1150.0      0.11810       0.15510     0.14590   \n",
      "11       27.28      136.50  1299.0      0.13960       0.56090     0.39650   \n",
      "12       29.94      151.70  1332.0      0.10370       0.39030     0.36390   \n",
      "13       27.66      112.00   876.5      0.11310       0.19240     0.23220   \n",
      "14       32.01      108.80   697.7      0.16510       0.77250     0.69430   \n",
      "15       37.13      124.10   943.2      0.16780       0.65770     0.70260   \n",
      "16       30.88      123.40  1138.0      0.14640       0.18710     0.29140   \n",
      "17       31.48      136.80  1315.0      0.17890       0.42330     0.47840   \n",
      "18       30.88      186.80  2398.0      0.15120       0.31500     0.53720   \n",
      "19       19.26       99.70   711.2      0.14400       0.17730     0.23900   \n",
      "20       20.49       96.09   630.5      0.13120       0.27760     0.18900   \n",
      "21       15.66       65.13   314.9      0.13240       0.11480     0.08867   \n",
      "22       19.08      125.10   980.9      0.13900       0.59540     0.63050   \n",
      "23       35.59      188.00  2615.0      0.14010       0.26000     0.31550   \n",
      "24       31.56      177.00  2215.0      0.18050       0.35780     0.46950   \n",
      "25       21.40      152.40  1461.0      0.15450       0.39490     0.38530   \n",
      "26       33.21      122.40   896.9      0.15250       0.66430     0.55390   \n",
      "27       27.26      139.90  1403.0      0.13380       0.21170     0.34460   \n",
      "28       36.71      149.30  1269.0      0.16410       0.61100     0.63350   \n",
      "29       19.52      134.90  1227.0      0.12550       0.28120     0.24890   \n",
      "..         ...         ...     ...          ...           ...         ...   \n",
      "539      31.89       54.49   223.6      0.15960       0.30640     0.33930   \n",
      "540      19.68       78.78   457.8      0.13450       0.21180     0.17970   \n",
      "541      31.73      113.50   808.9      0.13400       0.42020     0.40400   \n",
      "542      32.29      107.40   826.4      0.10600       0.13760     0.16110   \n",
      "543      37.17       92.48   629.6      0.10720       0.13810     0.10620   \n",
      "544      24.75       99.17   688.6      0.12640       0.20370     0.13770   \n",
      "545      29.09       97.58   729.8      0.12160       0.15170     0.10490   \n",
      "546      21.77       71.12   384.9      0.12850       0.08842     0.04384   \n",
      "547      22.04       71.08   357.4      0.14610       0.22460     0.17830   \n",
      "548      25.59       69.10   364.2      0.11990       0.09546     0.09350   \n",
      "549      31.45       83.90   505.6      0.12040       0.16330     0.06194   \n",
      "550      24.77       74.08   412.3      0.10010       0.07348     0.00000   \n",
      "551      28.26       77.80   436.6      0.10870       0.17820     0.15640   \n",
      "552      36.00       88.10   594.7      0.12340       0.10640     0.08653   \n",
      "553      25.05       62.86   295.8      0.11030       0.08298     0.07993   \n",
      "554      35.74       88.84   595.7      0.12270       0.16200     0.24390   \n",
      "555      34.91       69.57   357.6      0.13840       0.17100     0.20000   \n",
      "556      22.88       67.88   347.3      0.12650       0.12000     0.01005   \n",
      "557      34.24       66.50   330.6      0.10730       0.07158     0.00000   \n",
      "558      27.27      105.90   733.5      0.10260       0.31710     0.36620   \n",
      "559      37.16       82.28   474.2      0.12980       0.25170     0.36300   \n",
      "560      33.17      100.20   706.7      0.12410       0.22640     0.13260   \n",
      "561      38.30       75.19   439.6      0.09267       0.05494     0.00000   \n",
      "562      42.79      128.70   915.0      0.14170       0.79170     1.17000   \n",
      "563      29.41      179.10  1819.0      0.14070       0.41860     0.65990   \n",
      "564      26.40      166.10  2027.0      0.14100       0.21130     0.41070   \n",
      "565      38.25      155.00  1731.0      0.11660       0.19220     0.32150   \n",
      "566      34.12      126.70  1124.0      0.11390       0.30940     0.34030   \n",
      "567      39.42      184.60  1821.0      0.16500       0.86810     0.93870   \n",
      "568      30.37       59.16   268.6      0.08996       0.06444     0.00000   \n",
      "\n",
      "     concave_pointsW  symmetryW  fractal_dimensionW  \n",
      "0            0.26540     0.4601             0.11890  \n",
      "1            0.18600     0.2750             0.08902  \n",
      "2            0.24300     0.3613             0.08758  \n",
      "3            0.25750     0.6638             0.17300  \n",
      "4            0.16250     0.2364             0.07678  \n",
      "5            0.17410     0.3985             0.12440  \n",
      "6            0.19320     0.3063             0.08368  \n",
      "7            0.15560     0.3196             0.11510  \n",
      "8            0.20600     0.4378             0.10720  \n",
      "9            0.22100     0.4366             0.20750  \n",
      "10           0.09975     0.2948             0.08452  \n",
      "11           0.18100     0.3792             0.10480  \n",
      "12           0.17670     0.3176             0.10230  \n",
      "13           0.11190     0.2809             0.06287  \n",
      "14           0.22080     0.3596             0.14310  \n",
      "15           0.17120     0.4218             0.13410  \n",
      "16           0.16090     0.3029             0.08216  \n",
      "17           0.20730     0.3706             0.11420  \n",
      "18           0.23880     0.2768             0.07615  \n",
      "19           0.12880     0.2977             0.07259  \n",
      "20           0.07283     0.3184             0.08183  \n",
      "21           0.06227     0.2450             0.07773  \n",
      "22           0.23930     0.4667             0.09946  \n",
      "23           0.20090     0.2822             0.07526  \n",
      "24           0.20950     0.3613             0.09564  \n",
      "25           0.25500     0.4066             0.10590  \n",
      "26           0.27010     0.4264             0.12750  \n",
      "27           0.14900     0.2341             0.07421  \n",
      "28           0.20240     0.4027             0.09876  \n",
      "29           0.14560     0.2756             0.07919  \n",
      "..               ...        ...                 ...  \n",
      "539          0.05000     0.2790             0.10660  \n",
      "540          0.06918     0.2329             0.08134  \n",
      "541          0.12050     0.3187             0.10230  \n",
      "542          0.10950     0.2722             0.06956  \n",
      "543          0.07958     0.2473             0.06443  \n",
      "544          0.06845     0.2249             0.08492  \n",
      "545          0.07174     0.2642             0.06953  \n",
      "546          0.02381     0.2681             0.07399  \n",
      "547          0.08333     0.2691             0.09479  \n",
      "548          0.03846     0.2552             0.07920  \n",
      "549          0.03264     0.3059             0.07626  \n",
      "550          0.00000     0.2458             0.06592  \n",
      "551          0.06413     0.3169             0.08032  \n",
      "552          0.06498     0.2407             0.06484  \n",
      "553          0.02564     0.2435             0.07393  \n",
      "554          0.06493     0.2372             0.07242  \n",
      "555          0.09127     0.2226             0.08283  \n",
      "556          0.02232     0.2262             0.06742  \n",
      "557          0.00000     0.2475             0.06969  \n",
      "558          0.11050     0.2258             0.08004  \n",
      "559          0.09653     0.2112             0.08732  \n",
      "560          0.10480     0.2250             0.08321  \n",
      "561          0.00000     0.1566             0.05905  \n",
      "562          0.23560     0.4089             0.14090  \n",
      "563          0.25420     0.2929             0.09873  \n",
      "564          0.22160     0.2060             0.07115  \n",
      "565          0.16280     0.2572             0.06637  \n",
      "566          0.14180     0.2218             0.07820  \n",
      "567          0.26500     0.4087             0.12400  \n",
      "568          0.00000     0.2871             0.07039  \n",
      "\n",
      "[569 rows x 32 columns]\n"
     ]
    }
   ],
   "source": [
    "data.values\n",
    "print(data)"
   ]
  },
  {
   "cell_type": "code",
   "execution_count": 51,
   "metadata": {},
   "outputs": [
    {
     "data": {
      "text/plain": [
       "B    357\n",
       "M    212\n",
       "Name: diagnosis, dtype: int64"
      ]
     },
     "execution_count": 51,
     "metadata": {},
     "output_type": "execute_result"
    }
   ],
   "source": [
    "data['diagnosis'].value_counts()"
   ]
  },
  {
   "cell_type": "code",
   "execution_count": 52,
   "metadata": {},
   "outputs": [],
   "source": [
    "data['diagnosis'] = np.where(data['diagnosis'] == 'M', 1, -1)"
   ]
  },
  {
   "cell_type": "code",
   "execution_count": 53,
   "metadata": {},
   "outputs": [
    {
     "data": {
      "text/plain": [
       "array([[ 9.0656400e+05, -1.0000000e+00,  1.4690000e+01, ...,\n",
       "         1.1080000e-01,  2.8270000e-01,  9.2080000e-02],\n",
       "       [ 8.5715000e+04,  1.0000000e+00,  1.3170000e+01, ...,\n",
       "         2.0880000e-01,  3.9000000e-01,  1.1790000e-01],\n",
       "       [ 8.9167000e+05, -1.0000000e+00,  1.2950000e+01, ...,\n",
       "         1.0560000e-01,  3.3800000e-01,  9.5840000e-02],\n",
       "       ...,\n",
       "       [ 8.5971700e+05,  1.0000000e+00,  1.7200000e+01, ...,\n",
       "         1.8990000e-01,  3.3130000e-01,  1.3390000e-01],\n",
       "       [ 8.8249602e+07, -1.0000000e+00,  1.4030000e+01, ...,\n",
       "         7.9630000e-02,  2.2260000e-01,  7.6170000e-02],\n",
       "       [ 8.5494100e+05, -1.0000000e+00,  1.3030000e+01, ...,\n",
       "         5.0130000e-02,  1.9870000e-01,  6.1690000e-02]])"
      ]
     },
     "execution_count": 53,
     "metadata": {},
     "output_type": "execute_result"
    }
   ],
   "source": [
    "dataset = data.values[:,:]\n",
    "np.random.seed(1)\n",
    "np.random.shuffle(dataset)\n",
    "dataset"
   ]
  },
  {
   "cell_type": "code",
   "execution_count": 54,
   "metadata": {},
   "outputs": [],
   "source": [
    "X = data.values[:, 2:]\n",
    "y = data.values[:, 1]"
   ]
  },
  {
   "cell_type": "code",
   "execution_count": 55,
   "metadata": {},
   "outputs": [
    {
     "data": {
      "text/plain": [
       "array([[1.799e+01, 1.038e+01, 1.228e+02, 1.001e+03, 1.184e-01, 2.776e-01,\n",
       "        3.001e-01, 1.471e-01, 2.419e-01, 7.871e-02, 1.095e+00, 9.053e-01,\n",
       "        8.589e+00, 1.534e+02, 6.399e-03, 4.904e-02, 5.373e-02, 1.587e-02,\n",
       "        3.003e-02, 6.193e-03, 2.538e+01, 1.733e+01, 1.846e+02, 2.019e+03,\n",
       "        1.622e-01, 6.656e-01, 7.119e-01, 2.654e-01, 4.601e-01, 1.189e-01],\n",
       "       [2.057e+01, 1.777e+01, 1.329e+02, 1.326e+03, 8.474e-02, 7.864e-02,\n",
       "        8.690e-02, 7.017e-02, 1.812e-01, 5.667e-02, 5.435e-01, 7.339e-01,\n",
       "        3.398e+00, 7.408e+01, 5.225e-03, 1.308e-02, 1.860e-02, 1.340e-02,\n",
       "        1.389e-02, 3.532e-03, 2.499e+01, 2.341e+01, 1.588e+02, 1.956e+03,\n",
       "        1.238e-01, 1.866e-01, 2.416e-01, 1.860e-01, 2.750e-01, 8.902e-02],\n",
       "       [1.969e+01, 2.125e+01, 1.300e+02, 1.203e+03, 1.096e-01, 1.599e-01,\n",
       "        1.974e-01, 1.279e-01, 2.069e-01, 5.999e-02, 7.456e-01, 7.869e-01,\n",
       "        4.585e+00, 9.403e+01, 6.150e-03, 4.006e-02, 3.832e-02, 2.058e-02,\n",
       "        2.250e-02, 4.571e-03, 2.357e+01, 2.553e+01, 1.525e+02, 1.709e+03,\n",
       "        1.444e-01, 4.245e-01, 4.504e-01, 2.430e-01, 3.613e-01, 8.758e-02],\n",
       "       [1.142e+01, 2.038e+01, 7.758e+01, 3.861e+02, 1.425e-01, 2.839e-01,\n",
       "        2.414e-01, 1.052e-01, 2.597e-01, 9.744e-02, 4.956e-01, 1.156e+00,\n",
       "        3.445e+00, 2.723e+01, 9.110e-03, 7.458e-02, 5.661e-02, 1.867e-02,\n",
       "        5.963e-02, 9.208e-03, 1.491e+01, 2.650e+01, 9.887e+01, 5.677e+02,\n",
       "        2.098e-01, 8.663e-01, 6.869e-01, 2.575e-01, 6.638e-01, 1.730e-01],\n",
       "       [2.029e+01, 1.434e+01, 1.351e+02, 1.297e+03, 1.003e-01, 1.328e-01,\n",
       "        1.980e-01, 1.043e-01, 1.809e-01, 5.883e-02, 7.572e-01, 7.813e-01,\n",
       "        5.438e+00, 9.444e+01, 1.149e-02, 2.461e-02, 5.688e-02, 1.885e-02,\n",
       "        1.756e-02, 5.115e-03, 2.254e+01, 1.667e+01, 1.522e+02, 1.575e+03,\n",
       "        1.374e-01, 2.050e-01, 4.000e-01, 1.625e-01, 2.364e-01, 7.678e-02]])"
      ]
     },
     "execution_count": 55,
     "metadata": {},
     "output_type": "execute_result"
    }
   ],
   "source": [
    "X[:5]"
   ]
  },
  {
   "cell_type": "code",
   "execution_count": 56,
   "metadata": {},
   "outputs": [
    {
     "data": {
      "text/plain": [
       "array([1., 1., 1., 1., 1.])"
      ]
     },
     "execution_count": 56,
     "metadata": {},
     "output_type": "execute_result"
    }
   ],
   "source": [
    "y[:5]"
   ]
  },
  {
   "cell_type": "code",
   "execution_count": 57,
   "metadata": {},
   "outputs": [],
   "source": [
    "n_train = int(round(len(y) * 0.70))\n",
    "X_train = X[:n_train,:]\n",
    "y_train = y[:n_train]\n",
    "X_test = X[n_train:,:]\n",
    "y_test = y[n_train:]"
   ]
  },
  {
   "cell_type": "code",
   "execution_count": 58,
   "metadata": {},
   "outputs": [
    {
     "data": {
      "text/plain": [
       "((569, 30), (569,), (398, 30), (398,), (171, 30), (171,))"
      ]
     },
     "execution_count": 58,
     "metadata": {},
     "output_type": "execute_result"
    }
   ],
   "source": [
    "X.shape, y.shape, X_train.shape, y_train.shape, X_test.shape, y_test.shape"
   ]
  },
  {
   "cell_type": "code",
   "execution_count": 59,
   "metadata": {
    "scrolled": false
   },
   "outputs": [
    {
     "data": {
      "text/plain": [
       "(64.0270647879062, -0.1306532663316583)"
      ]
     },
     "execution_count": 59,
     "metadata": {},
     "output_type": "execute_result"
    }
   ],
   "source": [
    "np.average(X_train), np.average(y_train)"
   ]
  },
  {
   "cell_type": "code",
   "execution_count": 60,
   "metadata": {},
   "outputs": [
    {
     "data": {
      "text/plain": [
       "(56.918383249122805, -0.543859649122807)"
      ]
     },
     "execution_count": 60,
     "metadata": {},
     "output_type": "execute_result"
    }
   ],
   "source": [
    "np.average(X_test), np.average(y_test)"
   ]
  },
  {
   "cell_type": "markdown",
   "metadata": {},
   "source": [
    "### Criação do modelo Perceptron e avaliação da métrica acurácia "
   ]
  },
  {
   "cell_type": "code",
   "execution_count": 61,
   "metadata": {},
   "outputs": [
    {
     "data": {
      "text/plain": [
       "0.7485380116959064"
      ]
     },
     "execution_count": 61,
     "metadata": {},
     "output_type": "execute_result"
    }
   ],
   "source": [
    "model = Perceptron(eta=0.00001, n_iter=20)\n",
    "model.fit(X_train, y_train)\n",
    "y_pred = model.predict(X_test)\n",
    "accuracy = sum(y_pred == y_test) / y_test.shape[0]\n",
    "accuracy"
   ]
  },
  {
   "cell_type": "markdown",
   "metadata": {},
   "source": [
    "### Criação do modelo Adaline e avaliação da métrica acurácia"
   ]
  },
  {
   "cell_type": "code",
   "execution_count": 74,
   "metadata": {},
   "outputs": [
    {
     "data": {
      "text/plain": [
       "0.22807017543859648"
      ]
     },
     "execution_count": 74,
     "metadata": {},
     "output_type": "execute_result"
    }
   ],
   "source": [
    "model = AdalineGD(eta=0.00001, n_iter=20)\n",
    "model.fit(X_train, y_train)\n",
    "y_pred = model.predict(X_test)\n",
    "accuracy = sum(y_pred == y_test) / y_test.shape[0]\n",
    "accuracy"
   ]
  },
  {
   "cell_type": "markdown",
   "metadata": {},
   "source": [
    "### Criação do modelo Adaline  Gradiente Descentente Estocástico e avaliação da métrica acurácia"
   ]
  },
  {
   "cell_type": "code",
   "execution_count": 70,
   "metadata": {},
   "outputs": [
    {
     "name": "stderr",
     "output_type": "stream",
     "text": [
      "/home/iago/anaconda3/lib/python3.7/site-packages/ipykernel_launcher.py:83: RuntimeWarning: overflow encountered in double_scalars\n",
      "/home/iago/anaconda3/lib/python3.7/site-packages/ipykernel_launcher.py:81: RuntimeWarning: invalid value encountered in add\n",
      "/home/iago/anaconda3/lib/python3.7/site-packages/ipykernel_launcher.py:96: RuntimeWarning: invalid value encountered in greater_equal\n"
     ]
    },
    {
     "data": {
      "text/plain": [
       "0.7719298245614035"
      ]
     },
     "execution_count": 70,
     "metadata": {},
     "output_type": "execute_result"
    }
   ],
   "source": [
    "model = AdalineSGD(eta=0.00001, n_iter=20)\n",
    "model.fit(X_train, y_train)\n",
    "y_pred = model.predict(X_test)\n",
    "accuracy = sum(y_pred == y_test) / y_test.shape[0]\n",
    "accuracy"
   ]
  },
  {
   "cell_type": "markdown",
   "metadata": {},
   "source": [
    "### Criação do modelo Perceptron do Scikit Learn e avaliação da métrica acurácia"
   ]
  },
  {
   "cell_type": "code",
   "execution_count": 75,
   "metadata": {
    "scrolled": true
   },
   "outputs": [
    {
     "name": "stderr",
     "output_type": "stream",
     "text": [
      "/home/iago/anaconda3/lib/python3.7/site-packages/sklearn/linear_model/stochastic_gradient.py:152: DeprecationWarning: n_iter parameter is deprecated in 0.19 and will be removed in 0.21. Use max_iter and tol instead.\n",
      "  DeprecationWarning)\n"
     ]
    },
    {
     "data": {
      "text/plain": [
       "0.7894736842105263"
      ]
     },
     "execution_count": 75,
     "metadata": {},
     "output_type": "execute_result"
    }
   ],
   "source": [
    "from sklearn.datasets import load_digits\n",
    "from sklearn.linear_model import Perceptron\n",
    "model = Perceptron(tol=1e-3, random_state=0,eta0=0.001, n_iter=10)\n",
    "model.fit(X_train, y_train)\n",
    "model.score(X_test, y_test)"
   ]
  },
  {
   "cell_type": "markdown",
   "metadata": {},
   "source": [
    "### Criação do modelo tochastic Gradient Descent (SGD) do Scikit Learn e avaliação da métrica acurácia"
   ]
  },
  {
   "cell_type": "code",
   "execution_count": 76,
   "metadata": {},
   "outputs": [
    {
     "name": "stderr",
     "output_type": "stream",
     "text": [
      "/home/iago/anaconda3/lib/python3.7/site-packages/sklearn/linear_model/stochastic_gradient.py:152: DeprecationWarning: n_iter parameter is deprecated in 0.19 and will be removed in 0.21. Use max_iter and tol instead.\n",
      "  DeprecationWarning)\n"
     ]
    },
    {
     "data": {
      "text/plain": [
       "0.8187134502923976"
      ]
     },
     "execution_count": 76,
     "metadata": {},
     "output_type": "execute_result"
    }
   ],
   "source": [
    "from sklearn import linear_model\n",
    "model = linear_model.SGDClassifier(max_iter=1000, tol=1e-3, eta0=0.001, n_iter=10)\n",
    "model.fit(X_train, y_train)\n",
    "model.score(X_test,y_test)"
   ]
  },
  {
   "cell_type": "code",
   "execution_count": null,
   "metadata": {},
   "outputs": [],
   "source": []
  },
  {
   "cell_type": "code",
   "execution_count": 78,
   "metadata": {},
   "outputs": [
    {
     "name": "stderr",
     "output_type": "stream",
     "text": [
      "/home/iago/anaconda3/lib/python3.7/site-packages/sklearn/linear_model/logistic.py:758: ConvergenceWarning: lbfgs failed to converge. Increase the number of iterations.\n",
      "  \"of iterations.\", ConvergenceWarning)\n"
     ]
    },
    {
     "data": {
      "text/plain": [
       "0.9415204678362573"
      ]
     },
     "execution_count": 78,
     "metadata": {},
     "output_type": "execute_result"
    }
   ],
   "source": [
    "from sklearn.linear_model import LogisticRegression\n",
    "model = LogisticRegression(random_state=0, solver='lbfgs',multi_class='multinomial').fit(X_train, y_train)\n",
    "model.score(X_test, y_test)"
   ]
  }
 ],
 "metadata": {
  "kernelspec": {
   "display_name": "Python 3",
   "language": "python",
   "name": "python3"
  },
  "language_info": {
   "codemirror_mode": {
    "name": "ipython",
    "version": 3
   },
   "file_extension": ".py",
   "mimetype": "text/x-python",
   "name": "python",
   "nbconvert_exporter": "python",
   "pygments_lexer": "ipython3",
   "version": "3.7.1"
  }
 },
 "nbformat": 4,
 "nbformat_minor": 2
}
